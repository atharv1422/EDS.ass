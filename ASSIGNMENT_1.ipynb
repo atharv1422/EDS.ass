{
  "nbformat": 4,
  "nbformat_minor": 0,
  "metadata": {
    "colab": {
      "provenance": [],
      "authorship_tag": "ABX9TyPoG0kzM1hwlmrqXrXDRNWj",
      "include_colab_link": true
    },
    "kernelspec": {
      "name": "python3",
      "display_name": "Python 3"
    },
    "language_info": {
      "name": "python"
    }
  },
  "cells": [
    {
      "cell_type": "markdown",
      "metadata": {
        "id": "view-in-github",
        "colab_type": "text"
      },
      "source": [
        "<a href=\"https://colab.research.google.com/github/atharv1422/EDS.ass/blob/main/ASSIGNMENT_1.ipynb\" target=\"_parent\"><img src=\"https://colab.research.google.com/assets/colab-badge.svg\" alt=\"Open In Colab\"/></a>"
      ]
    },
    {
      "cell_type": "code",
      "execution_count": null,
      "metadata": {
        "colab": {
          "base_uri": "https://localhost:8080/"
        },
        "id": "3P9tMsXgSQpy",
        "outputId": "606b52e7-09d3-4126-a527-29e74a25d59c"
      },
      "outputs": [
        {
          "output_type": "stream",
          "name": "stdout",
          "text": [
            "[['ROLL No.', 'PRN No.', 'FIRST NAME', 'LAST NAME'], ['471', '202201090141', 'AVDUTH ', 'TAD'], ['472', '202201090142', 'VEDANT', 'DEOKAR'], ['473', '202201090143', 'HARSHWARDHAN', 'WAYDANDE'], ['474', '202201090144', 'SHREYES', 'SURVE'], ['475', '202201090145', 'VINAY', 'WALKE'], ['476', '202201090146', 'NIRMAL', 'CHATURWEDI'], ['477', '202201090147', 'ATHARV', 'LATWADEKAR'], ['478', '202201090148', 'YASH', 'KHEWALKAR'], ['479', '202201090149', 'CHETAN', 'TALELE'], ['480', '202201090150', 'CHETAN', 'SAPKAL']]\n"
          ]
        }
      ],
      "source": [
        "import csv\n",
        "file=open('/content/Stud.csv - Sheet1.csv','r')\n",
        "data1=list(csv.reader(file,delimiter=','))\n",
        "file.close()\n",
        "print(data1)"
      ]
    },
    {
      "cell_type": "code",
      "source": [
        "import csv\n",
        "file=open('/content/Result - Sheet1.csv','r')\n",
        "data2=list(csv.reader(file,delimiter=','))\n",
        "file.close()\n",
        "print(data2)"
      ],
      "metadata": {
        "colab": {
          "base_uri": "https://localhost:8080/"
        },
        "id": "jlT8rLL_Te-e",
        "outputId": "f641ccc7-ce74-47de-93ba-a6a19fd50d0d"
      },
      "execution_count": null,
      "outputs": [
        {
          "output_type": "stream",
          "name": "stdout",
          "text": [
            "[['PRN No.', 'RESULT(CGPA)'], ['202201090141', '8.51'], ['202201090142', '7.25'], ['202201090143', '9.01'], ['202201090144', '7.24'], ['202201090145', '7.65'], ['202201090146', '6.85'], ['202201090147', '8.5'], ['202201090148', '6.89'], ['202201090149', '9.85'], ['202201090150', '9.65']]\n"
          ]
        }
      ]
    },
    {
      "cell_type": "code",
      "source": [
        "import csv\n",
        "file=open('/content/Placement - Sheet1.csv','r')\n",
        "data3=list(csv.reader(file,delimiter=','))\n",
        "file.close()\n",
        "print(data3)"
      ],
      "metadata": {
        "colab": {
          "base_uri": "https://localhost:8080/"
        },
        "id": "P6WF1OqjTruy",
        "outputId": "d84fbb23-bc29-4e34-d530-6c51d13f4192"
      },
      "execution_count": null,
      "outputs": [
        {
          "output_type": "stream",
          "name": "stdout",
          "text": [
            "[['PRN No.', 'COMPANY', 'PACKAGE'], ['202201090141', 'TATA STEELS', '150000'], ['202201090142', 'MICROSOFT ', '120000'], ['202201090143', 'GOOGLE', '110000'], ['202201090144', 'MAHINDRA', '80000'], ['202201090145', 'ZUDIO', '85000'], ['202201090146', 'SAMSUNG', '74000'], ['202201090147', 'AUDI', '100000'], ['202201090148', 'TESLA', '140000'], ['202201090149', 'DOMINOS', '15000'], ['202201090150', 'SWIGGY', '12000']]\n"
          ]
        }
      ]
    },
    {
      "cell_type": "code",
      "source": [
        "data1+data2+data3"
      ],
      "metadata": {
        "colab": {
          "base_uri": "https://localhost:8080/"
        },
        "id": "rEE62r0yUG0b",
        "outputId": "98307d57-7702-4e9f-a143-8698c81e6d00"
      },
      "execution_count": null,
      "outputs": [
        {
          "output_type": "execute_result",
          "data": {
            "text/plain": [
              "[['ROLL No.', 'PRN No.', 'FIRST NAME', 'LAST NAME'],\n",
              " ['471', '202201090141', 'AVDUTH ', 'TAD'],\n",
              " ['472', '202201090142', 'VEDANT', 'DEOKAR'],\n",
              " ['473', '202201090143', 'HARSHWARDHAN', 'WAYDANDE'],\n",
              " ['474', '202201090144', 'SHREYES', 'SURVE'],\n",
              " ['475', '202201090145', 'VINAY', 'WALKE'],\n",
              " ['476', '202201090146', 'NIRMAL', 'CHATURWEDI'],\n",
              " ['477', '202201090147', 'ATHARV', 'LATWADEKAR'],\n",
              " ['478', '202201090148', 'YASH', 'KHEWALKAR'],\n",
              " ['479', '202201090149', 'CHETAN', 'TALELE'],\n",
              " ['480', '202201090150', 'CHETAN', 'SAPKAL'],\n",
              " ['PRN No.', 'RESULT(CGPA)'],\n",
              " ['202201090141', '8.51'],\n",
              " ['202201090142', '7.25'],\n",
              " ['202201090143', '9.01'],\n",
              " ['202201090144', '7.24'],\n",
              " ['202201090145', '7.65'],\n",
              " ['202201090146', '6.85'],\n",
              " ['202201090147', '8.5'],\n",
              " ['202201090148', '6.89'],\n",
              " ['202201090149', '9.85'],\n",
              " ['202201090150', '9.65'],\n",
              " ['PRN No.', 'COMPANY', 'PACKAGE'],\n",
              " ['202201090141', 'TATA STEELS', '150000'],\n",
              " ['202201090142', 'MICROSOFT ', '120000'],\n",
              " ['202201090143', 'GOOGLE', '110000'],\n",
              " ['202201090144', 'MAHINDRA', '80000'],\n",
              " ['202201090145', 'ZUDIO', '85000'],\n",
              " ['202201090146', 'SAMSUNG', '74000'],\n",
              " ['202201090147', 'AUDI', '100000'],\n",
              " ['202201090148', 'TESLA', '140000'],\n",
              " ['202201090149', 'DOMINOS', '15000'],\n",
              " ['202201090150', 'SWIGGY', '12000']]"
            ]
          },
          "metadata": {},
          "execution_count": 8
        }
      ]
    },
    {
      "cell_type": "code",
      "source": [
        "mylist=[]\n",
        "for i in range(10):\n",
        "  mylist.append(data1[i]+data2[i])\n",
        "print(mylist)"
      ],
      "metadata": {
        "colab": {
          "base_uri": "https://localhost:8080/"
        },
        "id": "jHkHC9gsUVcw",
        "outputId": "4f3809d8-8bb6-4dac-cdfe-2c6416a6115b"
      },
      "execution_count": null,
      "outputs": [
        {
          "output_type": "stream",
          "name": "stdout",
          "text": [
            "[['ROLL No.', 'PRN No.', 'FIRST NAME', 'LAST NAME', 'PRN No.', 'RESULT(CGPA)'], ['471', '202201090141', 'AVDUTH ', 'TAD', '202201090141', '8.51'], ['472', '202201090142', 'VEDANT', 'DEOKAR', '202201090142', '7.25'], ['473', '202201090143', 'HARSHWARDHAN', 'WAYDANDE', '202201090143', '9.01'], ['474', '202201090144', 'SHREYES', 'SURVE', '202201090144', '7.24'], ['475', '202201090145', 'VINAY', 'WALKE', '202201090145', '7.65'], ['476', '202201090146', 'NIRMAL', 'CHATURWEDI', '202201090146', '6.85'], ['477', '202201090147', 'ATHARV', 'LATWADEKAR', '202201090147', '8.5'], ['478', '202201090148', 'YASH', 'KHEWALKAR', '202201090148', '6.89'], ['479', '202201090149', 'CHETAN', 'TALELE', '202201090149', '9.85']]\n"
          ]
        }
      ]
    },
    {
      "cell_type": "code",
      "source": [
        "mylist2=[]\n",
        "for i in range(10):\n",
        "  mylist2.append(mylist[i]+data3[i])\n",
        "print(mylist2)"
      ],
      "metadata": {
        "colab": {
          "base_uri": "https://localhost:8080/"
        },
        "id": "iEN-37ShVUly",
        "outputId": "da496e82-df5f-48b7-cf1b-926731e90d45"
      },
      "execution_count": null,
      "outputs": [
        {
          "output_type": "stream",
          "name": "stdout",
          "text": [
            "[['ROLL No.', 'PRN No.', 'FIRST NAME', 'LAST NAME', 'PRN No.', 'RESULT(CGPA)', 'PRN No.', 'COMPANY', 'PACKAGE'], ['471', '202201090141', 'AVDUTH ', 'TAD', '202201090141', '8.51', '202201090141', 'TATA STEELS', '150000'], ['472', '202201090142', 'VEDANT', 'DEOKAR', '202201090142', '7.25', '202201090142', 'MICROSOFT ', '120000'], ['473', '202201090143', 'HARSHWARDHAN', 'WAYDANDE', '202201090143', '9.01', '202201090143', 'GOOGLE', '110000'], ['474', '202201090144', 'SHREYES', 'SURVE', '202201090144', '7.24', '202201090144', 'MAHINDRA', '80000'], ['475', '202201090145', 'VINAY', 'WALKE', '202201090145', '7.65', '202201090145', 'ZUDIO', '85000'], ['476', '202201090146', 'NIRMAL', 'CHATURWEDI', '202201090146', '6.85', '202201090146', 'SAMSUNG', '74000'], ['477', '202201090147', 'ATHARV', 'LATWADEKAR', '202201090147', '8.5', '202201090147', 'AUDI', '100000'], ['478', '202201090148', 'YASH', 'KHEWALKAR', '202201090148', '6.89', '202201090148', 'TESLA', '140000'], ['479', '202201090149', 'CHETAN', 'TALELE', '202201090149', '9.85', '202201090149', 'DOMINOS', '15000']]\n"
          ]
        }
      ]
    },
    {
      "cell_type": "code",
      "source": [
        "mylist2"
      ],
      "metadata": {
        "colab": {
          "base_uri": "https://localhost:8080/"
        },
        "id": "ZqyD-qfOVdcs",
        "outputId": "29acf20b-1280-4401-a879-e7e175a4861d"
      },
      "execution_count": null,
      "outputs": [
        {
          "output_type": "execute_result",
          "data": {
            "text/plain": [
              "[['ROLL No.',\n",
              "  'PRN No.',\n",
              "  'FIRST NAME',\n",
              "  'LAST NAME',\n",
              "  'PRN No.',\n",
              "  'RESULT(CGPA)',\n",
              "  'PRN No.',\n",
              "  'COMPANY',\n",
              "  'PACKAGE'],\n",
              " ['471',\n",
              "  '202201090141',\n",
              "  'AVDUTH ',\n",
              "  'TAD',\n",
              "  '202201090141',\n",
              "  '8.51',\n",
              "  '202201090141',\n",
              "  'TATA STEELS',\n",
              "  '150000'],\n",
              " ['472',\n",
              "  '202201090142',\n",
              "  'VEDANT',\n",
              "  'DEOKAR',\n",
              "  '202201090142',\n",
              "  '7.25',\n",
              "  '202201090142',\n",
              "  'MICROSOFT ',\n",
              "  '120000'],\n",
              " ['473',\n",
              "  '202201090143',\n",
              "  'HARSHWARDHAN',\n",
              "  'WAYDANDE',\n",
              "  '202201090143',\n",
              "  '9.01',\n",
              "  '202201090143',\n",
              "  'GOOGLE',\n",
              "  '110000'],\n",
              " ['474',\n",
              "  '202201090144',\n",
              "  'SHREYES',\n",
              "  'SURVE',\n",
              "  '202201090144',\n",
              "  '7.24',\n",
              "  '202201090144',\n",
              "  'MAHINDRA',\n",
              "  '80000'],\n",
              " ['475',\n",
              "  '202201090145',\n",
              "  'VINAY',\n",
              "  'WALKE',\n",
              "  '202201090145',\n",
              "  '7.65',\n",
              "  '202201090145',\n",
              "  'ZUDIO',\n",
              "  '85000'],\n",
              " ['476',\n",
              "  '202201090146',\n",
              "  'NIRMAL',\n",
              "  'CHATURWEDI',\n",
              "  '202201090146',\n",
              "  '6.85',\n",
              "  '202201090146',\n",
              "  'SAMSUNG',\n",
              "  '74000'],\n",
              " ['477',\n",
              "  '202201090147',\n",
              "  'ATHARV',\n",
              "  'LATWADEKAR',\n",
              "  '202201090147',\n",
              "  '8.5',\n",
              "  '202201090147',\n",
              "  'AUDI',\n",
              "  '100000'],\n",
              " ['478',\n",
              "  '202201090148',\n",
              "  'YASH',\n",
              "  'KHEWALKAR',\n",
              "  '202201090148',\n",
              "  '6.89',\n",
              "  '202201090148',\n",
              "  'TESLA',\n",
              "  '140000'],\n",
              " ['479',\n",
              "  '202201090149',\n",
              "  'CHETAN',\n",
              "  'TALELE',\n",
              "  '202201090149',\n",
              "  '9.85',\n",
              "  '202201090149',\n",
              "  'DOMINOS',\n",
              "  '15000']]"
            ]
          },
          "metadata": {},
          "execution_count": 19
        }
      ]
    },
    {
      "cell_type": "code",
      "source": [
        "print(len(mylist2))"
      ],
      "metadata": {
        "colab": {
          "base_uri": "https://localhost:8080/"
        },
        "id": "AWl3mm0tVnme",
        "outputId": "03849d80-b9ca-4c33-a336-a01623f30305"
      },
      "execution_count": null,
      "outputs": [
        {
          "output_type": "stream",
          "name": "stdout",
          "text": [
            "10\n"
          ]
        }
      ]
    },
    {
      "cell_type": "code",
      "source": [
        "mylist2.pop(0)"
      ],
      "metadata": {
        "colab": {
          "base_uri": "https://localhost:8080/"
        },
        "id": "5DsPPbKcVutA",
        "outputId": "437c6e4c-74ac-4b2b-ea2c-f02502c3a57e"
      },
      "execution_count": null,
      "outputs": [
        {
          "output_type": "execute_result",
          "data": {
            "text/plain": [
              "['ROLL No.',\n",
              " 'PRN No.',\n",
              " 'FIRST NAME',\n",
              " 'LAST NAME',\n",
              " 'PRN No.',\n",
              " 'RESULT(CGPA)',\n",
              " 'PRN No.',\n",
              " 'COMPANY',\n",
              " 'PACKAGE']"
            ]
          },
          "metadata": {},
          "execution_count": 21
        }
      ]
    },
    {
      "cell_type": "code",
      "source": [
        "package=[]\n",
        "for i in range(len(mylist2)):\n",
        "  package.append(int(mylist2[i][8]))\n",
        "print(sum(package))\n",
        "print('The sum of all the Packages is=',sum(package))"
      ],
      "metadata": {
        "colab": {
          "base_uri": "https://localhost:8080/"
        },
        "id": "-nQ0GnuxVznX",
        "outputId": "4f373656-338b-43ef-8a14-082e85674bb4"
      },
      "execution_count": null,
      "outputs": [
        {
          "output_type": "stream",
          "name": "stdout",
          "text": [
            "874000\n",
            "The sum of all the Packages is= 874000\n"
          ]
        }
      ]
    },
    {
      "cell_type": "code",
      "source": [
        "print(max(package))\n",
        "print('The maximum package is=',max(package))"
      ],
      "metadata": {
        "colab": {
          "base_uri": "https://localhost:8080/"
        },
        "id": "iJPZRS8DWmj-",
        "outputId": "cb6895f4-5508-4e4d-c90d-4efbc717a95f"
      },
      "execution_count": null,
      "outputs": [
        {
          "output_type": "stream",
          "name": "stdout",
          "text": [
            "150000\n",
            "The maximum package is= 150000\n"
          ]
        }
      ]
    },
    {
      "cell_type": "code",
      "source": [
        "print(min(package))\n",
        "print('The minimum package is=',min(package))"
      ],
      "metadata": {
        "colab": {
          "base_uri": "https://localhost:8080/"
        },
        "id": "VRsfQhoDWvCQ",
        "outputId": "6c4022ec-5be5-49b6-e673-6a7e122f01b6"
      },
      "execution_count": null,
      "outputs": [
        {
          "output_type": "stream",
          "name": "stdout",
          "text": [
            "15000\n",
            "The minimum package is= 15000\n"
          ]
        }
      ]
    },
    {
      "cell_type": "code",
      "source": [
        "m=sum(package)/len(package)\n",
        "avg=round(m,10)\n",
        "print(avg)\n",
        "print('The Average Package is=',avg)"
      ],
      "metadata": {
        "colab": {
          "base_uri": "https://localhost:8080/"
        },
        "id": "PM9ZcjL7XFuV",
        "outputId": "4cd66674-5a18-48c5-b72d-c48be6640473"
      },
      "execution_count": null,
      "outputs": [
        {
          "output_type": "stream",
          "name": "stdout",
          "text": [
            "97111.1111111111\n",
            "The Average Package is= 97111.1111111111\n"
          ]
        }
      ]
    }
  ]
}