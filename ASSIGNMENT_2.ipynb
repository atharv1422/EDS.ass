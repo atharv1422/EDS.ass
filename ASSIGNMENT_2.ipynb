{
  "cells": [
    {
      "cell_type": "markdown",
      "metadata": {
        "id": "view-in-github",
        "colab_type": "text"
      },
      "source": [
        "<a href=\"https://colab.research.google.com/github/atharv1422/EDS.ass/blob/main/ASSIGNMENT_2.ipynb\" target=\"_parent\"><img src=\"https://colab.research.google.com/assets/colab-badge.svg\" alt=\"Open In Colab\"/></a>"
      ]
    },
    {
      "cell_type": "code",
      "execution_count": null,
      "metadata": {
        "colab": {
          "base_uri": "https://localhost:8080/"
        },
        "id": "XRbcZ_hJXGcR",
        "outputId": "512ad96c-d672-4e32-e388-3b958fe40481"
      },
      "outputs": [
        {
          "name": "stdout",
          "output_type": "stream",
          "text": [
            "[['cID ', 'cName', 'cGender', 'cAmount ', 'pID', 'pName', 'pDetails', 'pQuantity', 'sID', 'sName'], ['4001', 'Chetan', 'Male', '55000', '100001', 'Lenovo', 'laptop', '1', '8001', 'Raj sales'], ['4002', 'Atharva', 'Male', '10000', '100002', 'Apple', 'pencil', '2', '8002', 'vijay sales'], ['4003', 'Rishabh', 'Male', '60000', '100003', 'mi', 'tab', '2', '8003', 'croma'], ['4004', 'Yash', 'Male', '85000', '100004', 'LG', 'TV', '1', '8004', 'amazon'], ['4005', 'Vedant', 'Male', '65000', '100005', 'Asus', 'laptop', '1', '8005', 'flipkart'], ['4006', 'Kunal', 'Male', '220000', '100006', 'voltas', 'AC', '3', '8006', 'new salaes'], ['4007', 'Vinay', 'Male', '22500', '100007', 'Logitech', 'mouse', '10', '8007', 'chetan sales'], ['4008', 'Vinayaa', 'Female', '100000', '100008', 'macbook', 'laptop', '1', '8008', 'croma'], ['4009', 'Nirmal', 'Male', '75000', '100009', 'Orient', 'AC', '2', '8009', 'croma '], ['4010', 'Harsh', 'Male', '111100', '100010', 'oneplus', 'Phone', '3', '8010', 'jio mart']]\n"
          ]
        }
      ],
      "source": [
        "import csv\n",
        "file=open('/content/Sales Assignment 2.csv','r')\n",
        "data1=list(csv.reader(file,delimiter=','))\n",
        "file.close()\n",
        "print(data1)"
      ]
    },
    {
      "cell_type": "code",
      "execution_count": null,
      "metadata": {
        "colab": {
          "base_uri": "https://localhost:8080/"
        },
        "id": "MIZ93jK-XhHp",
        "outputId": "a972f92d-12b5-49cd-911d-9a718d4f1a98"
      },
      "outputs": [
        {
          "name": "stdout",
          "output_type": "stream",
          "text": [
            "['4001', 'Chetan', 'Male', '55000', '100001', 'Lenovo', 'laptop', '1', '8001', 'Raj sales']\n",
            "['100001', 'Lenovo', '8001', 'Raj sales']\n",
            "['4002', 'Atharva', 'Male', '10000', '100002', 'Apple', 'pencil', '2', '8002', 'vijay sales']\n",
            "['100002', 'Apple', '8002', 'vijay sales']\n",
            "['4003', 'Rishabh', 'Male', '60000', '100003', 'mi', 'tab', '2', '8003', 'croma']\n",
            "['100003', 'mi', '8003', 'croma']\n",
            "['4004', 'Yash', 'Male', '85000', '100004', 'LG', 'TV', '1', '8004', 'amazon']\n",
            "['100004', 'LG', '8004', 'amazon']\n",
            "['4005', 'Vedant', 'Male', '65000', '100005', 'Asus', 'laptop', '1', '8005', 'flipkart']\n",
            "['100005', 'Asus', '8005', 'flipkart']\n",
            "['4006', 'Kunal', 'Male', '220000', '100006', 'voltas', 'AC', '3', '8006', 'new salaes']\n",
            "['100006', 'voltas', '8006', 'new salaes']\n",
            "['4007', 'Vinay', 'Male', '22500', '100007', 'Logitech', 'mouse', '10', '8007', 'chetan sales']\n",
            "['100007', 'Logitech', '8007', 'chetan sales']\n",
            "['4008', 'Vinayaa', 'Female', '100000', '100008', 'macbook', 'laptop', '1', '8008', 'croma']\n",
            "['100008', 'macbook', '8008', 'croma']\n",
            "['4009', 'Nirmal', 'Male', '75000', '100009', 'Orient', 'AC', '2', '8009', 'croma ']\n",
            "['100009', 'Orient', '8009', 'croma ']\n",
            "['4010', 'Harsh', 'Male', '111100', '100010', 'oneplus', 'Phone', '3', '8010', 'jio mart']\n",
            "['100010', 'oneplus', '8010', 'jio mart']\n",
            "['4001', '4002', '4003', '4004', '4005', '4006', '4007', '4008', '4009', '4010']\n",
            "['Chetan', 'Atharva', 'Rishabh', 'Yash', 'Vedant', 'Kunal', 'Vinay', 'Vinayaa', 'Nirmal', 'Harsh']\n",
            "['Male', 'Male', 'Male', 'Male', 'Male', 'Male', 'Male', 'Female', 'Male', 'Male']\n",
            "55000 ['100001', 'Lenovo', '8001', 'Raj sales']\n",
            "10000 ['100002', 'Apple', '8002', 'vijay sales']\n",
            "60000 ['100003', 'mi', '8003', 'croma']\n",
            "85000 ['100004', 'LG', '8004', 'amazon']\n",
            "65000 ['100005', 'Asus', '8005', 'flipkart']\n",
            "220000 ['100006', 'voltas', '8006', 'new salaes']\n",
            "22500 ['100007', 'Logitech', '8007', 'chetan sales']\n",
            "100000 ['100008', 'macbook', '8008', 'croma']\n",
            "75000 ['100009', 'Orient', '8009', 'croma ']\n",
            "111100 ['100010', 'oneplus', '8010', 'jio mart']\n",
            "('laptop', 'pencil', 'tab', 'TV', 'laptop', 'AC', 'mouse', 'laptop', 'AC', 'Phone')\n",
            "('1', '2', '2', '1', '1', '3', '10', '1', '2', '3')\n"
          ]
        }
      ],
      "source": [
        "import csv\n",
        "\n",
        "f1 = open(\"/content/Sales Assignment 2.csv\",\"r\")\n",
        "data = list(csv.reader(f1))\n",
        "\n",
        "CName = []; CGender = [] ; CCity = []\n",
        "Product = {}\n",
        "SName = () ; SCity = ()\n",
        "l1 = []; l2 = []\n",
        "\n",
        "for i in range(1,len(data)):\n",
        "    pd = []\n",
        "    print(data[i])\n",
        "    CName.append(data[i][0])\n",
        "    CGender.append(data[i][1])\n",
        "    CCity.append(data[i][2])\n",
        "    pd.append(data[i][4])\n",
        "    pd.append(data[i][5])\n",
        "    pd.append(data[i][8])\n",
        "    pd.append(data[i][9])\n",
        "    print(pd)\n",
        "    Product [data[i][3]] =  pd\n",
        "    l1.append(data[i][6])\n",
        "    l2.append(data[i][7])\n",
        "\n",
        "\n",
        "SName = tuple(l1)\n",
        "SCity = tuple(l2)\n",
        "\n",
        "print(CName)\n",
        "print(CGender)\n",
        "print(CCity)\n",
        "\n",
        "for k in Product.keys():\n",
        "  print(k , Product[k])\n",
        "\n",
        "print(SName)\n",
        "print(SCity)"
      ]
    },
    {
      "cell_type": "code",
      "execution_count": null,
      "metadata": {
        "colab": {
          "base_uri": "https://localhost:8080/"
        },
        "id": "MW-OiludYqxw",
        "outputId": "0e93d81a-b47c-4d3f-8473-2c2cc7e0db82"
      },
      "outputs": [
        {
          "name": "stdout",
          "output_type": "stream",
          "text": [
            "No. of Males= 9\n",
            "No. of Females= 1\n"
          ]
        }
      ],
      "source": [
        "Male=0\n",
        "Female=0\n",
        "for i in range(1,len(data)):\n",
        "  if data[i][2]=='Male':\n",
        "    Male=Male+1\n",
        "  else:\n",
        "    Female=Female+1\n",
        "print('No. of Males=',Male)\n",
        "print('No. of Females=',Female)"
      ]
    },
    {
      "cell_type": "code",
      "execution_count": null,
      "metadata": {
        "colab": {
          "base_uri": "https://localhost:8080/",
          "height": 217
        },
        "id": "DASlN94tZdzy",
        "outputId": "1de0f80c-b177-4af6-c0d5-9e02e20b75eb"
      },
      "outputs": [
        {
          "ename": "TypeError",
          "evalue": "ignored",
          "output_type": "error",
          "traceback": [
            "\u001b[0;31m---------------------------------------------------------------------------\u001b[0m",
            "\u001b[0;31mTypeError\u001b[0m                                 Traceback (most recent call last)",
            "\u001b[0;32m<ipython-input-53-616aeb71278f>\u001b[0m in \u001b[0;36m<cell line: 4>\u001b[0;34m()\u001b[0m\n\u001b[1;32m      6\u001b[0m     \u001b[0mmax\u001b[0m\u001b[0;34m=\u001b[0m\u001b[0;34m(\u001b[0m\u001b[0mdata\u001b[0m\u001b[0;34m[\u001b[0m\u001b[0mi\u001b[0m\u001b[0;34m]\u001b[0m\u001b[0;34m[\u001b[0m\u001b[0;36m9\u001b[0m\u001b[0;34m]\u001b[0m\u001b[0;34m)\u001b[0m\u001b[0;34m\u001b[0m\u001b[0;34m\u001b[0m\u001b[0m\n\u001b[1;32m      7\u001b[0m     \u001b[0mkey_i\u001b[0m\u001b[0;34m=\u001b[0m\u001b[0mi\u001b[0m\u001b[0;34m\u001b[0m\u001b[0;34m\u001b[0m\u001b[0m\n\u001b[0;32m----> 8\u001b[0;31m   \u001b[0mmax\u001b[0m\u001b[0;34m=\u001b[0m\u001b[0mmax\u001b[0m\u001b[0;34m+\u001b[0m\u001b[0;36m1\u001b[0m\u001b[0;34m\u001b[0m\u001b[0;34m\u001b[0m\u001b[0m\n\u001b[0m\u001b[1;32m      9\u001b[0m \u001b[0mprint\u001b[0m\u001b[0;34m(\u001b[0m\u001b[0;34m'Best Supplier='\u001b[0m\u001b[0;34m,\u001b[0m\u001b[0mmax\u001b[0m\u001b[0;34m)\u001b[0m\u001b[0;34m\u001b[0m\u001b[0;34m\u001b[0m\u001b[0m\n",
            "\u001b[0;31mTypeError\u001b[0m: can only concatenate str (not \"int\") to str"
          ]
        }
      ],
      "source": [
        "max=''\n",
        "key_i=0\n",
        "i=0\n",
        "for i in range(1,len(data)):\n",
        "  if(max<(data[i][9])):\n",
        "    max=(data[i][9])\n",
        "    key_i=i\n",
        "  max=max+1\n",
        "print('Best Supplier=',max)"
      ]
    },
    {
      "cell_type": "code",
      "execution_count": null,
      "metadata": {
        "colab": {
          "background_save": true,
          "base_uri": "https://localhost:8080/"
        },
        "id": "dcwey1KQlKdf",
        "outputId": "5c0bac27-9436-4973-efba-294ea5618342"
      },
      "outputs": [
        {
          "ename": "TypeError",
          "evalue": "ignored",
          "output_type": "error",
          "traceback": [
            "\u001b[0;31m---------------------------------------------------------------------------\u001b[0m",
            "\u001b[0;31mTypeError\u001b[0m                                 Traceback (most recent call last)",
            "\u001b[0;32m<ipython-input-100-46eceed731ec>\u001b[0m in \u001b[0;36m<cell line: 5>\u001b[0;34m()\u001b[0m\n\u001b[1;32m      3\u001b[0m \u001b[0;32mfor\u001b[0m \u001b[0mi\u001b[0m \u001b[0;32min\u001b[0m \u001b[0mrange\u001b[0m\u001b[0;34m(\u001b[0m\u001b[0;36m1\u001b[0m\u001b[0;34m,\u001b[0m\u001b[0mb\u001b[0m\u001b[0;34m,\u001b[0m\u001b[0;36m1\u001b[0m\u001b[0;34m)\u001b[0m\u001b[0;34m:\u001b[0m\u001b[0;34m\u001b[0m\u001b[0;34m\u001b[0m\u001b[0m\n\u001b[1;32m      4\u001b[0m     \u001b[0mmaximum\u001b[0m\u001b[0;34m=\u001b[0m\u001b[0mlist\u001b[0m\u001b[0;34m(\u001b[0m\u001b[0mdata\u001b[0m\u001b[0;34m[\u001b[0m\u001b[0mi\u001b[0m\u001b[0;34m]\u001b[0m\u001b[0;34m[\u001b[0m\u001b[0;36m7\u001b[0m\u001b[0;34m]\u001b[0m\u001b[0;34m)\u001b[0m\u001b[0;34m\u001b[0m\u001b[0;34m\u001b[0m\u001b[0m\n\u001b[0;32m----> 5\u001b[0;31m \u001b[0mprint\u001b[0m\u001b[0;34m(\u001b[0m\u001b[0mmax\u001b[0m\u001b[0;34m(\u001b[0m\u001b[0mmaximum\u001b[0m\u001b[0;34m)\u001b[0m\u001b[0;34m)\u001b[0m\u001b[0;34m\u001b[0m\u001b[0;34m\u001b[0m\u001b[0m\n\u001b[0m\u001b[1;32m      6\u001b[0m \u001b[0;34m\u001b[0m\u001b[0m\n\u001b[1;32m      7\u001b[0m \u001b[0;34m\u001b[0m\u001b[0m\n",
            "\u001b[0;31mTypeError\u001b[0m: 'str' object is not callable"
          ]
        }
      ],
      "source": [
        "maximum=[]\n",
        "b=len(data)\n",
        "for i in range(1,b,1):\n",
        "    maximum=list(data[i][7])\n",
        "print(max(maximum))\n",
        "\n",
        "\n"
      ]
    }
  ],
  "metadata": {
    "colab": {
      "provenance": [],
      "authorship_tag": "ABX9TyM/sKtH5CrUb4y9+3Q8NUbo",
      "include_colab_link": true
    },
    "kernelspec": {
      "display_name": "Python 3",
      "name": "python3"
    },
    "language_info": {
      "name": "python"
    }
  },
  "nbformat": 4,
  "nbformat_minor": 0
}