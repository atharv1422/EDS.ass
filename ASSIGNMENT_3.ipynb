{
  "nbformat": 4,
  "nbformat_minor": 0,
  "metadata": {
    "colab": {
      "provenance": [],
      "authorship_tag": "ABX9TyMoagQb3+/Ke8Hd/XOCyB5r",
      "include_colab_link": true
    },
    "kernelspec": {
      "name": "python3",
      "display_name": "Python 3"
    },
    "language_info": {
      "name": "python"
    }
  },
  "cells": [
    {
      "cell_type": "markdown",
      "metadata": {
        "id": "view-in-github",
        "colab_type": "text"
      },
      "source": [
        "<a href=\"https://colab.research.google.com/github/atharv1422/EDS.ass/blob/main/ASSIGNMENT_3.ipynb\" target=\"_parent\"><img src=\"https://colab.research.google.com/assets/colab-badge.svg\" alt=\"Open In Colab\"/></a>"
      ]
    },
    {
      "cell_type": "code",
      "execution_count": null,
      "metadata": {
        "colab": {
          "base_uri": "https://localhost:8080/"
        },
        "id": "Clhdzlq27AQU",
        "outputId": "94655589-ded3-4580-9cc0-c1efa33354d4"
      },
      "outputs": [
        {
          "output_type": "stream",
          "name": "stdout",
          "text": [
            "[['EMPLOYEE_ID' 'FIRST_NAME' 'LAST_NAME' 'EMAIL' 'PHONE_NUMBER'\n",
            "  'HIRE_DATE' 'JOB_ID' 'SALARY' 'COMMISSION_PCT' 'MANAGER_ID'\n",
            "  'DEPARTMENT_ID']\n",
            " ['198' 'Donald' 'OConnell' 'DOCONNEL' '650.507.9833' '21-Jun-07'\n",
            "  'SH_CLERK' '2600' ' - ' '124' '50']\n",
            " ['199' 'Douglas' 'Grant' 'DGRANT' '650.507.9844' '13-Jan-08' 'SH_CLERK'\n",
            "  '2600' ' - ' '124' '50']\n",
            " ['200' 'Jennifer' 'Whalen' 'JWHALEN' '515.123.4444' '17-Sep-03'\n",
            "  'AD_ASST' '4400' ' - ' '101' '10']\n",
            " ['201' 'Michael' 'Hartstein' 'MHARTSTE' '515.123.5555' '17-Feb-04'\n",
            "  'MK_MAN' '13000' ' - ' '100' '20']\n",
            " ['202' 'Pat' 'Fay' 'PFAY' '603.123.6666' '17-Aug-05' 'MK_REP' '6000'\n",
            "  ' - ' '201' '20']\n",
            " ['203' 'Susan' 'Mavris' 'SMAVRIS' '515.123.7777' '7-Jun-02' 'HR_REP'\n",
            "  '6500' ' - ' '101' '40']\n",
            " ['204' 'Hermann' 'Baer' 'HBAER' '515.123.8888' '7-Jun-02' 'PR_REP'\n",
            "  '10000' ' - ' '101' '70']\n",
            " ['205' 'Shelley' 'Higgins' 'SHIGGINS' '515.123.8080' '7-Jun-02' 'AC_MGR'\n",
            "  '12008' ' - ' '101' '110']\n",
            " ['206' 'William' 'Gietz' 'WGIETZ' '515.123.8181' '7-Jun-02' 'AC_ACCOUNT'\n",
            "  '8300' ' - ' '205' '110']\n",
            " ['100' 'Steven' 'King' 'SKING' '515.123.4567' '17-Jun-03' 'AD_PRES'\n",
            "  '24000' ' - ' ' - ' '90']\n",
            " ['101' 'Neena' 'Kochhar' 'NKOCHHAR' '515.123.4568' '21-Sep-05' 'AD_VP'\n",
            "  '17000' ' - ' '100' '90']\n",
            " ['102' 'Lex' 'De Haan' 'LDEHAAN' '515.123.4569' '13-Jan-01' 'AD_VP'\n",
            "  '17000' ' - ' '100' '90']\n",
            " ['103' 'Alexander' 'Hunold' 'AHUNOLD' '590.423.4567' '3-Jan-06'\n",
            "  'IT_PROG' '9000' ' - ' '102' '60']\n",
            " ['104' 'Bruce' 'Ernst' 'BERNST' '590.423.4568' '21-May-07' 'IT_PROG'\n",
            "  '6000' ' - ' '103' '60']\n",
            " ['105' 'David' 'Austin' 'DAUSTIN' '590.423.4569' '25-Jun-05' 'IT_PROG'\n",
            "  '4800' ' - ' '103' '60']\n",
            " ['106' 'Valli' 'Pataballa' 'VPATABAL' '590.423.4560' '5-Feb-06'\n",
            "  'IT_PROG' '4800' ' - ' '103' '60']\n",
            " ['107' 'Diana' 'Lorentz' 'DLORENTZ' '590.423.5567' '7-Feb-07' 'IT_PROG'\n",
            "  '4200' ' - ' '103' '60']\n",
            " ['108' 'Nancy' 'Greenberg' 'NGREENBE' '515.124.4569' '17-Aug-02'\n",
            "  'FI_MGR' '12008' ' - ' '101' '100']\n",
            " ['109' 'Daniel' 'Faviet' 'DFAVIET' '515.124.4169' '16-Aug-02'\n",
            "  'FI_ACCOUNT' '9000' ' - ' '108' '100']\n",
            " ['110' 'John' 'Chen' 'JCHEN' '515.124.4269' '28-Sep-05' 'FI_ACCOUNT'\n",
            "  '8200' ' - ' '108' '100']\n",
            " ['111' 'Ismael' 'Sciarra' 'ISCIARRA' '515.124.4369' '30-Sep-05'\n",
            "  'FI_ACCOUNT' '7700' ' - ' '108' '100']\n",
            " ['112' 'Jose Manuel' 'Urman' 'JMURMAN' '515.124.4469' '7-Mar-06'\n",
            "  'FI_ACCOUNT' '7800' ' - ' '108' '100']\n",
            " ['113' 'Luis' 'Popp' 'LPOPP' '515.124.4567' '7-Dec-07' 'FI_ACCOUNT'\n",
            "  '6900' ' - ' '108' '100']\n",
            " ['114' 'Den' 'Raphaely' 'DRAPHEAL' '515.127.4561' '7-Dec-02' 'PU_MAN'\n",
            "  '11000' ' - ' '100' '30']\n",
            " ['115' 'Alexander' 'Khoo' 'AKHOO' '515.127.4562' '18-May-03' 'PU_CLERK'\n",
            "  '3100' ' - ' '114' '30']\n",
            " ['116' 'Shelli' 'Baida' 'SBAIDA' '515.127.4563' '24-Dec-05' 'PU_CLERK'\n",
            "  '2900' ' - ' '114' '30']\n",
            " ['117' 'Sigal' 'Tobias' 'STOBIAS' '515.127.4564' '24-Jul-05' 'PU_CLERK'\n",
            "  '2800' ' - ' '114' '30']\n",
            " ['118' 'Guy' 'Himuro' 'GHIMURO' '515.127.4565' '15-Nov-06' 'PU_CLERK'\n",
            "  '2600' ' - ' '114' '30']\n",
            " ['119' 'Karen' 'Colmenares' 'KCOLMENA' '515.127.4566' '10-Aug-07'\n",
            "  'PU_CLERK' '2500' ' - ' '114' '30']\n",
            " ['120' 'Matthew' 'Weiss' 'MWEISS' '650.123.1234' '18-Jul-04' 'ST_MAN'\n",
            "  '8000' ' - ' '100' '50']\n",
            " ['121' 'Adam' 'Fripp' 'AFRIPP' '650.123.2234' '10-Apr-05' 'ST_MAN'\n",
            "  '8200' ' - ' '100' '50']\n",
            " ['122' 'Payam' 'Kaufling' 'PKAUFLIN' '650.123.3234' '1-May-03' 'ST_MAN'\n",
            "  '7900' ' - ' '100' '50']\n",
            " ['123' 'Shanta' 'Vollman' 'SVOLLMAN' '650.123.4234' '10-Oct-05' 'ST_MAN'\n",
            "  '6500' ' - ' '100' '50']\n",
            " ['124' 'Kevin' 'Mourgos' 'KMOURGOS' '650.123.5234' '16-Nov-07' 'ST_MAN'\n",
            "  '5800' ' - ' '100' '50']\n",
            " ['125' 'Julia' 'Nayer' 'JNAYER' '650.124.1214' '16-Jul-05' 'ST_CLERK'\n",
            "  '3200' ' - ' '120' '50']\n",
            " ['126' 'Irene' 'Mikkilineni' 'IMIKKILI' '650.124.1224' '28-Sep-06'\n",
            "  'ST_CLERK' '2700' ' - ' '120' '50']\n",
            " ['127' 'James' 'Landry' 'JLANDRY' '650.124.1334' '14-Jan-07' 'ST_CLERK'\n",
            "  '2400' ' - ' '120' '50']\n",
            " ['128' 'Steven' 'Markle' 'SMARKLE' '650.124.1434' '8-Mar-08' 'ST_CLERK'\n",
            "  '2200' ' - ' '120' '50']\n",
            " ['129' 'Laura' 'Bissot' 'LBISSOT' '650.124.5234' '20-Aug-05' 'ST_CLERK'\n",
            "  '3300' ' - ' '121' '50']\n",
            " ['130' 'Mozhe' 'Atkinson' 'MATKINSO' '650.124.6234' '30-Oct-05'\n",
            "  'ST_CLERK' '2800' ' - ' '121' '50']\n",
            " ['131' 'James' 'Marlow' 'JAMRLOW' '650.124.7234' '16-Feb-05' 'ST_CLERK'\n",
            "  '2500' ' - ' '121' '50']\n",
            " ['132' 'TJ' 'Olson' 'TJOLSON' '650.124.8234' '10-Apr-07' 'ST_CLERK'\n",
            "  '2100' ' - ' '121' '50']\n",
            " ['133' 'Jason' 'Mallin' 'JMALLIN' '650.127.1934' '14-Jun-04' 'ST_CLERK'\n",
            "  '3300' ' - ' '122' '50']\n",
            " ['134' 'Michael' 'Rogers' 'MROGERS' '650.127.1834' '26-Aug-06'\n",
            "  'ST_CLERK' '2900' ' - ' '122' '50']\n",
            " ['135' 'Ki' 'Gee' 'KGEE' '650.127.1734' '12-Dec-07' 'ST_CLERK' '2400'\n",
            "  ' - ' '122' '50']\n",
            " ['136' 'Hazel' 'Philtanker' 'HPHILTAN' '650.127.1634' '6-Feb-08'\n",
            "  'ST_CLERK' '2200' ' - ' '122' '50']\n",
            " ['137' 'Renske' 'Ladwig' 'RLADWIG' '650.121.1234' '14-Jul-03' 'ST_CLERK'\n",
            "  '3600' ' - ' '123' '50']\n",
            " ['138' 'Stephen' 'Stiles' 'SSTILES' '650.121.2034' '26-Oct-05'\n",
            "  'ST_CLERK' '3200' ' - ' '123' '50']\n",
            " ['139' 'John' 'Seo' 'JSEO' '650.121.2019' '12-Feb-06' 'ST_CLERK' '2700'\n",
            "  ' - ' '123' '50']\n",
            " ['140' 'Joshua' 'Patel' 'JPATEL' '650.121.1834' '6-Apr-06' 'ST_CLERK'\n",
            "  '2500' ' - ' '123' '50']]\n",
            "<class 'numpy.ndarray'>\n",
            "<U14\n"
          ]
        }
      ],
      "source": [
        "import numpy as np\n",
        "d1=np.genfromtxt(\"/content/employees(D4).csv\",delimiter=',',dtype=str)\n",
        "print(d1)\n",
        "print(type(d1))\n",
        "print(d1.dtype)"
      ]
    },
    {
      "cell_type": "code",
      "source": [
        "l=(d1[1:,0])\n",
        "print(l)"
      ],
      "metadata": {
        "colab": {
          "base_uri": "https://localhost:8080/"
        },
        "id": "27JoptbZ9U-N",
        "outputId": "fa7de652-e644-45f5-e3e3-a33fd61c89c4"
      },
      "execution_count": null,
      "outputs": [
        {
          "output_type": "stream",
          "name": "stdout",
          "text": [
            "['198' '199' '200' '201' '202' '203' '204' '205' '206' '100' '101' '102'\n",
            " '103' '104' '105' '106' '107' '108' '109' '110' '111' '112' '113' '114'\n",
            " '115' '116' '117' '118' '119' '120' '121' '122' '123' '124' '125' '126'\n",
            " '127' '128' '129' '130' '131' '132' '133' '134' '135' '136' '137' '138'\n",
            " '139' '140']\n"
          ]
        }
      ]
    },
    {
      "cell_type": "code",
      "source": [
        "n=l.astype('int32')\n",
        "print(\"The Total sum is =\",np.sum(n))\n",
        "print(\"The Maximum in the employee ID no. is =\",np.max(n))"
      ],
      "metadata": {
        "colab": {
          "base_uri": "https://localhost:8080/"
        },
        "id": "GgCqSwW1-a5G",
        "outputId": "f4fc868c-fb68-4fd8-bfe9-3ac04a8be70a"
      },
      "execution_count": null,
      "outputs": [
        {
          "output_type": "stream",
          "name": "stdout",
          "text": [
            "The Total sum is = 6738\n",
            "The Maximum in the employee ID no. is = 206\n"
          ]
        }
      ]
    },
    {
      "cell_type": "code",
      "source": [
        "print(\"The Total Records are =\",np.count_nonzero(l))"
      ],
      "metadata": {
        "colab": {
          "base_uri": "https://localhost:8080/"
        },
        "id": "Y9byGwDJBqP8",
        "outputId": "76fa2516-057c-447b-d1b9-273a06cb2fd3"
      },
      "execution_count": null,
      "outputs": [
        {
          "output_type": "stream",
          "name": "stdout",
          "text": [
            "The Total Records are = 50\n"
          ]
        }
      ]
    },
    {
      "cell_type": "code",
      "source": [
        "o=(d1[1:,7])\n",
        "print(o)"
      ],
      "metadata": {
        "colab": {
          "base_uri": "https://localhost:8080/"
        },
        "id": "ReGFK2m1CZeB",
        "outputId": "05a1c050-0c2f-465e-9eed-b75dcdbb89a2"
      },
      "execution_count": null,
      "outputs": [
        {
          "output_type": "stream",
          "name": "stdout",
          "text": [
            "['2600' '2600' '4400' '13000' '6000' '6500' '10000' '12008' '8300' '24000'\n",
            " '17000' '17000' '9000' '6000' '4800' '4800' '4200' '12008' '9000' '8200'\n",
            " '7700' '7800' '6900' '11000' '3100' '2900' '2800' '2600' '2500' '8000'\n",
            " '8200' '7900' '6500' '5800' '3200' '2700' '2400' '2200' '3300' '2800'\n",
            " '2500' '2100' '3300' '2900' '2400' '2200' '3600' '3200' '2700' '2500']\n"
          ]
        }
      ]
    },
    {
      "cell_type": "code",
      "source": [
        "p=o.astype('int32') #CONVERSION\n",
        "print(\"Maximum salary of the employee is =\",np.max(p))"
      ],
      "metadata": {
        "colab": {
          "base_uri": "https://localhost:8080/"
        },
        "id": "5c6NQEZ7EF7d",
        "outputId": "2e57c720-62cc-48ac-f93e-89ae3f98c59f"
      },
      "execution_count": null,
      "outputs": [
        {
          "output_type": "stream",
          "name": "stdout",
          "text": [
            "Maximum salary of the employee is = 24000\n"
          ]
        }
      ]
    },
    {
      "cell_type": "code",
      "source": [
        "x=p.argmax()\n",
        "print(x)"
      ],
      "metadata": {
        "colab": {
          "base_uri": "https://localhost:8080/"
        },
        "id": "L-TO9ORDEeZg",
        "outputId": "6e9874e7-f7b3-4f02-d77d-da3c4a91d0b4"
      },
      "execution_count": null,
      "outputs": [
        {
          "output_type": "stream",
          "name": "stdout",
          "text": [
            "9\n"
          ]
        }
      ]
    },
    {
      "cell_type": "code",
      "source": [
        "h=d1[p.argmax()+1,:]\n",
        "print(h)"
      ],
      "metadata": {
        "colab": {
          "base_uri": "https://localhost:8080/"
        },
        "id": "RPnLPdhtHH5M",
        "outputId": "40f7f35d-7afa-4007-c378-594a7bd54d85"
      },
      "execution_count": null,
      "outputs": [
        {
          "output_type": "stream",
          "name": "stdout",
          "text": [
            "['100' 'Steven' 'King' 'SKING' '515.123.4567' '17-Jun-03' 'AD_PRES'\n",
            " '24000' ' - ' ' - ' '90']\n"
          ]
        }
      ]
    },
    {
      "cell_type": "code",
      "source": [
        "j=(d1[0:,6])\n",
        "print(j)"
      ],
      "metadata": {
        "colab": {
          "base_uri": "https://localhost:8080/"
        },
        "id": "FzW-stpuNvEB",
        "outputId": "1b126570-44d5-458c-c225-12603356d8d1"
      },
      "execution_count": null,
      "outputs": [
        {
          "output_type": "stream",
          "name": "stdout",
          "text": [
            "['JOB_ID' 'SH_CLERK' 'SH_CLERK' 'AD_ASST' 'MK_MAN' 'MK_REP' 'HR_REP'\n",
            " 'PR_REP' 'AC_MGR' 'AC_ACCOUNT' 'AD_PRES' 'AD_VP' 'AD_VP' 'IT_PROG'\n",
            " 'IT_PROG' 'IT_PROG' 'IT_PROG' 'IT_PROG' 'FI_MGR' 'FI_ACCOUNT'\n",
            " 'FI_ACCOUNT' 'FI_ACCOUNT' 'FI_ACCOUNT' 'FI_ACCOUNT' 'PU_MAN' 'PU_CLERK'\n",
            " 'PU_CLERK' 'PU_CLERK' 'PU_CLERK' 'PU_CLERK' 'ST_MAN' 'ST_MAN' 'ST_MAN'\n",
            " 'ST_MAN' 'ST_MAN' 'ST_CLERK' 'ST_CLERK' 'ST_CLERK' 'ST_CLERK' 'ST_CLERK'\n",
            " 'ST_CLERK' 'ST_CLERK' 'ST_CLERK' 'ST_CLERK' 'ST_CLERK' 'ST_CLERK'\n",
            " 'ST_CLERK' 'ST_CLERK' 'ST_CLERK' 'ST_CLERK' 'ST_CLERK']\n"
          ]
        }
      ]
    },
    {
      "cell_type": "code",
      "source": [
        "filterarray=(j==\"ST_CLERK\")\n",
        "z=list(filterarray)\n",
        "clerkdata=d1[z]\n",
        "print(clerkdata)"
      ],
      "metadata": {
        "colab": {
          "base_uri": "https://localhost:8080/"
        },
        "id": "olGBgqMeLiDk",
        "outputId": "7bcdd5b2-a9f8-431a-99bb-5778db21a7f2"
      },
      "execution_count": null,
      "outputs": [
        {
          "output_type": "stream",
          "name": "stdout",
          "text": [
            "[['125' 'Julia' 'Nayer' 'JNAYER' '650.124.1214' '16-Jul-05' 'ST_CLERK'\n",
            "  '3200' ' - ' '120' '50']\n",
            " ['126' 'Irene' 'Mikkilineni' 'IMIKKILI' '650.124.1224' '28-Sep-06'\n",
            "  'ST_CLERK' '2700' ' - ' '120' '50']\n",
            " ['127' 'James' 'Landry' 'JLANDRY' '650.124.1334' '14-Jan-07' 'ST_CLERK'\n",
            "  '2400' ' - ' '120' '50']\n",
            " ['128' 'Steven' 'Markle' 'SMARKLE' '650.124.1434' '8-Mar-08' 'ST_CLERK'\n",
            "  '2200' ' - ' '120' '50']\n",
            " ['129' 'Laura' 'Bissot' 'LBISSOT' '650.124.5234' '20-Aug-05' 'ST_CLERK'\n",
            "  '3300' ' - ' '121' '50']\n",
            " ['130' 'Mozhe' 'Atkinson' 'MATKINSO' '650.124.6234' '30-Oct-05'\n",
            "  'ST_CLERK' '2800' ' - ' '121' '50']\n",
            " ['131' 'James' 'Marlow' 'JAMRLOW' '650.124.7234' '16-Feb-05' 'ST_CLERK'\n",
            "  '2500' ' - ' '121' '50']\n",
            " ['132' 'TJ' 'Olson' 'TJOLSON' '650.124.8234' '10-Apr-07' 'ST_CLERK'\n",
            "  '2100' ' - ' '121' '50']\n",
            " ['133' 'Jason' 'Mallin' 'JMALLIN' '650.127.1934' '14-Jun-04' 'ST_CLERK'\n",
            "  '3300' ' - ' '122' '50']\n",
            " ['134' 'Michael' 'Rogers' 'MROGERS' '650.127.1834' '26-Aug-06'\n",
            "  'ST_CLERK' '2900' ' - ' '122' '50']\n",
            " ['135' 'Ki' 'Gee' 'KGEE' '650.127.1734' '12-Dec-07' 'ST_CLERK' '2400'\n",
            "  ' - ' '122' '50']\n",
            " ['136' 'Hazel' 'Philtanker' 'HPHILTAN' '650.127.1634' '6-Feb-08'\n",
            "  'ST_CLERK' '2200' ' - ' '122' '50']\n",
            " ['137' 'Renske' 'Ladwig' 'RLADWIG' '650.121.1234' '14-Jul-03' 'ST_CLERK'\n",
            "  '3600' ' - ' '123' '50']\n",
            " ['138' 'Stephen' 'Stiles' 'SSTILES' '650.121.2034' '26-Oct-05'\n",
            "  'ST_CLERK' '3200' ' - ' '123' '50']\n",
            " ['139' 'John' 'Seo' 'JSEO' '650.121.2019' '12-Feb-06' 'ST_CLERK' '2700'\n",
            "  ' - ' '123' '50']\n",
            " ['140' 'Joshua' 'Patel' 'JPATEL' '650.121.1834' '6-Apr-06' 'ST_CLERK'\n",
            "  '2500' ' - ' '123' '50']]\n"
          ]
        }
      ]
    },
    {
      "cell_type": "code",
      "source": [
        "w=(clerkdata[0:,7])\n",
        "print(w)"
      ],
      "metadata": {
        "colab": {
          "base_uri": "https://localhost:8080/"
        },
        "id": "X5vHnUYKPm2z",
        "outputId": "cf6e22c4-9c4b-4f5e-989c-c2c60855ad90"
      },
      "execution_count": null,
      "outputs": [
        {
          "output_type": "stream",
          "name": "stdout",
          "text": [
            "['3200' '2700' '2400' '2200' '3300' '2800' '2500' '2100' '3300' '2900'\n",
            " '2400' '2200' '3600' '3200' '2700' '2500']\n"
          ]
        }
      ]
    },
    {
      "cell_type": "code",
      "source": [
        "q=w.astype('int32') #CONVERSION\n",
        "print(\"Maximum salary of the ST_Clerk is =\",np.max(q))\n",
        "print(\"Sum of the salary is =\",np.sum(q))"
      ],
      "metadata": {
        "colab": {
          "base_uri": "https://localhost:8080/"
        },
        "id": "fiiphxPAPwCb",
        "outputId": "25569de7-84a5-473f-b3a9-ea42c3ae4199"
      },
      "execution_count": null,
      "outputs": [
        {
          "output_type": "stream",
          "name": "stdout",
          "text": [
            "Maximum salary of the employee is = 3600\n",
            "Sum of the salary is = 44000\n"
          ]
        }
      ]
    }
  ]
}